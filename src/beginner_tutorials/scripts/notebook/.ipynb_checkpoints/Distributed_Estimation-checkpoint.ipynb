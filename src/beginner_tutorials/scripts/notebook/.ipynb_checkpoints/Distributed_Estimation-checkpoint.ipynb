{
 "cells": [
  {
   "cell_type": "code",
   "execution_count": 1,
   "metadata": {
    "collapsed": false
   },
   "outputs": [],
   "source": [
    "import numpy as np\n",
    "import matplotlib.pyplot as plt \n",
    "from mpl_toolkits.mplot3d import Axes3D\n",
    "import matplotlib.animation as animation\n",
    "import time\n",
    "\n",
    "\n",
    "def setGraph( N, edgeList ):\n",
    "    W = np.zeros((N,N))\n",
    "    for e in edgeList:\n",
    "        i = e[0]\n",
    "        j = e[1]\n",
    "        W[i][j] = 1\n",
    "        W[j][i] = 1       \n",
    "    return W\n",
    "\n",
    "def setIncidence( N, edgeList ):\n",
    "    m = len(edgeList)\n",
    "    B = np.zeros((N,m))\n",
    "    for idx, e in enumerate(edgeList):\n",
    "        i = e[0]\n",
    "        j = e[1]\n",
    "        B[i,idx] = 1\n",
    "        B[j,idx] = -1\n",
    "    return B\n",
    "\n",
    "if __name__ == '__main__':\n",
    "    n = 3 # dimension\n",
    "    N = 8 # number of robots\n",
    "    K = 100 # number of iterations\n",
    "    alpha = 0.1# discretization constant\n",
    "    var_rel = 1\n",
    "    var_abs = 0.5\n",
    "    edgeList = [(0,1),\n",
    "                (1,2),\n",
    "                (2,3),\n",
    "                (3,0),\n",
    "                (4,5),\n",
    "                (5,6),\n",
    "                (6,7),\n",
    "                (7,4),\n",
    "                (0,4),\n",
    "                (1,5),\n",
    "                (2,6),\n",
    "                (3,7)]\n",
    "    W = setGraph(N, edgeList)\n",
    "    Dout = np.diag(np.sum(W, axis=1))\n",
    "    L = Dout - W \n",
    "    B = setIncidence(N,edgeList)\n",
    "    B_kron = np.kron(B,np.identity(n))\n",
    "    \n",
    "    \n",
    "    p_inf = np.array([0,0,0, 0,1,0, 1,1,0, 1,0,0, 0,0,1, 0,1,1, 1,1,1, 1,0,1]).T\n",
    "    y = np.dot(B_kron.T,p_inf) + 0.01*(np.random.rand(n*len(edgeList))-0.5) # relative position measurement\n",
    "    y_abs = p_inf + 0.01*(np.random.rand(n*N)-0.5) # absolute position measurement \n",
    "\n",
    "    #nodeList_abs = [0,1,2,3,4,5,6,7]\n",
    "    nodeList_abs = [0,1,2,3]\n",
    "    S = np.zeros((N,N))\n",
    "    for i in nodeList_abs:\n",
    "        S[i,i] = 1\n",
    "    S_kron = np.kron(S, np.identity(n))"
   ]
  },
  {
   "cell_type": "code",
   "execution_count": 2,
   "metadata": {
    "collapsed": false
   },
   "outputs": [],
   "source": [
    "    A = np.identity(n*N) - (1/var_rel)*alpha*np.kron(L, np.identity(n)) - (1/var_abs)*alpha*np.dot(S_kron.T,S_kron)\n",
    "    p_est = np.zeros((n*N,K))\n",
    "    \n",
    "    for k in range(K-1): \n",
    "        p_est[:,k+1] = np.dot(A,p_est[:,k]) + (1/var_rel)*alpha*np.dot(B_kron,y) + (1/var_abs)*alpha*np.dot(np.dot(S_kron.T, S_kron), y_abs)\n"
   ]
  },
  {
   "cell_type": "code",
   "execution_count": 3,
   "metadata": {
    "collapsed": false
   },
   "outputs": [
    {
     "data": {
      "text/plain": [
       "0.0095988287134466665"
      ]
     },
     "execution_count": 3,
     "metadata": {},
     "output_type": "execute_result"
    }
   ],
   "source": [
    "np.linalg.norm(p_est[:,K-1]-p_inf)"
   ]
  },
  {
   "cell_type": "code",
   "execution_count": 204,
   "metadata": {
    "collapsed": false
   },
   "outputs": [
    {
     "data": {
      "text/plain": [
       "array([-0.0009,  0.0003, -0.0043,  0.0003,  1.0023, -0.005 ,  1.0027,\n",
       "        1.0038, -0.0043,  0.9985,  0.0023, -0.0032, -0.0038,  0.0006,\n",
       "        0.9952, -0.0035,  1.0001,  0.9963,  0.9968,  1.0023,  0.9985,\n",
       "        0.9948, -0.0009,  0.9938])"
      ]
     },
     "execution_count": 204,
     "metadata": {},
     "output_type": "execute_result"
    }
   ],
   "source": [
    "np.set_printoptions(suppress=True)\n",
    "np.set_printoptions(precision=4)\n",
    "p_est[:,K-1] "
   ]
  },
  {
   "cell_type": "code",
   "execution_count": null,
   "metadata": {
    "collapsed": true
   },
   "outputs": [],
   "source": []
  }
 ],
 "metadata": {
  "kernelspec": {
   "display_name": "Python 2",
   "language": "python",
   "name": "python2"
  },
  "language_info": {
   "codemirror_mode": {
    "name": "ipython",
    "version": 2
   },
   "file_extension": ".py",
   "mimetype": "text/x-python",
   "name": "python",
   "nbconvert_exporter": "python",
   "pygments_lexer": "ipython2",
   "version": "2.7.6"
  }
 },
 "nbformat": 4,
 "nbformat_minor": 1
}
