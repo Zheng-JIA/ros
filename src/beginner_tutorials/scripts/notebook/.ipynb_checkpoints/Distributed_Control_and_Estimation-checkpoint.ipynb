{
 "cells": [
  {
   "cell_type": "code",
   "execution_count": 1,
   "metadata": {
    "collapsed": true
   },
   "outputs": [],
   "source": [
    "import numpy as np\n",
    "import matplotlib.pyplot as plt \n",
    "from mpl_toolkits.mplot3d import Axes3D\n",
    "import matplotlib.animation as animation\n",
    "import time\n",
    "\n",
    "def setGraph( N, edgeList ):\n",
    "    W = np.zeros((N,N))\n",
    "    for e in edgeList:\n",
    "        i = e[0]\n",
    "        j = e[1]\n",
    "        W[i][j] = 1\n",
    "        W[j][i] = 1       \n",
    "    return W\n",
    "\n",
    "def drawLines(k, edgeList, x, x_inf):\n",
    "    plt.cla()\n",
    "    for i in range(N):\n",
    "        ax.scatter(x[3*i,0],x[3*i+1,0],x[3*i+2,0],c='blue') # initial position\n",
    "        ax.scatter(x[3*i,K-1],x[3*i+1,K-1],x[3*i+2,K-1],c='red') # current position\n",
    "        ax.scatter(x_inf[3*i],x_inf[3*i+1],x_inf[3*i+2],c='green') # final position\n",
    "        ax.plot(x[3*i,:],x[3*i+1,:],x[3*i+2,:])    \n",
    "    for e in edgeList:\n",
    "        i = e[0]\n",
    "        j = e[1]\n",
    "        ax.plot([x[3*i,k-1], x[3*j,k-1]], [x[3*i+1,k-1], x[3*j+1,k-1]], [x[3*i+2,k-1], x[3*j+2,k-1]], c='black')\n",
    "\n",
    "def setIncidence( N, edgeList ):\n",
    "    m = len(edgeList)\n",
    "    B = np.zeros((N,m))\n",
    "    for idx, e in enumerate(edgeList):\n",
    "        i = e[0]\n",
    "        j = e[1]\n",
    "        B[i,idx] = 1\n",
    "        B[j,idx] = -1\n",
    "    return B\n",
    "\n",
    "if __name__ == '__main__':\n",
    "\n",
    "    n = 3 # dimension\n",
    "    N = 8 # number of robots\n",
    "    K = 2000 # number of iterations\n",
    "    eps = 0.02# discretization constant\n",
    "    \n",
    "    kp = 1\n",
    "    kv = 1*kp\n",
    "    kap = 0.2*kp\n",
    "    kav = 1.8*kp\n",
    "    p = np.zeros((n*N, K)) \n",
    "    v = np.zeros((n*N, K)) \n",
    "    x = np.concatenate((p, v), axis=0)\n",
    "    \n",
    "    p_inf = np.array([0,0,0, 0,1,0, 1,1,0, 1,0,0, 0,0,1, 0,1,1, 1,1,1, 1,0,1]).T+2.0\n",
    "    v_inf = np.zeros(n*N)\n",
    "    p_init = 5*(np.random.rand(n*N)-0.5)\n",
    "    v_init = 0.5*v_inf\n",
    "    x[:,0] = np.concatenate((p_init, v_init), axis=0)\n",
    "    \n",
    "    x_inf = np.concatenate((p_inf, v_inf),axis=0) \n",
    "                            "
   ]
  },
  {
   "cell_type": "code",
   "execution_count": 2,
   "metadata": {
    "collapsed": true
   },
   "outputs": [],
   "source": [
    "    edgeList = [(0,1),\n",
    "                (1,2),\n",
    "                (2,3),\n",
    "                (3,0),\n",
    "                (4,5),\n",
    "                (5,6),\n",
    "                (6,7),\n",
    "                (7,4),\n",
    "                (0,4),\n",
    "                (1,5),\n",
    "                (2,6),\n",
    "                (3,7),]\n",
    "    W = setGraph(N, edgeList)\n",
    "    Dout = np.diag(np.sum(W, axis=1))\n",
    "    L = Dout - W \n",
    "    B = setIncidence(N,edgeList)\n",
    "    B_kron = np.kron(B,np.identity(n))\n",
    "    \n",
    "    G_pos = np.diag(np.array([1, 1, 0, 0, 0, 1, 0, 0]))\n",
    "    G_vel = np.diag(np.array([1, 1, 1, 1, 1, 1, 1, 1]))\n",
    "    \n",
    "    A11 = np.zeros((n*N,n*N))\n",
    "    A12 = np.identity(n*N)\n",
    "    A21 = -kp*np.kron(L, np.identity(n)) - kap*np.kron(G_pos, np.identity(n))\n",
    "    A22 = -kv*np.kron(L, np.identity(n)) - kav*np.kron(G_vel, np.identity(n))\n",
    "    A = np.concatenate((A11,A12), axis=1)\n",
    "    A = np.concatenate((A, np.concatenate((A21,A22), axis=1)), axis=0)"
   ]
  },
  {
   "cell_type": "code",
   "execution_count": 3,
   "metadata": {
    "collapsed": false
   },
   "outputs": [
    {
     "name": "stdout",
     "output_type": "stream",
     "text": [
      "2.04199998252\n",
      "6.85405153776\n"
     ]
    }
   ],
   "source": [
    "    for k in range(K-1):\n",
    "        x[:,k+1] = x[:,k] + eps*np.dot(A,x[:,k]-x_inf) + eps*0.01*(np.random.rand(2*n*N)-0.5)\n",
    "\n",
    "    print(np.linalg.norm(x[0:15:1,K-1]-x_inf[0:15:1]))\n",
    "    print(np.linalg.norm(x[15:30:1,K-1]))\n"
   ]
  },
  {
   "cell_type": "code",
   "execution_count": 4,
   "metadata": {
    "collapsed": false
   },
   "outputs": [
    {
     "ename": "AttributeError",
     "evalue": "'NoneType' object has no attribute 'tk'",
     "output_type": "error",
     "traceback": [
      "\u001b[0;31m---------------------------------------------------------------------------\u001b[0m",
      "\u001b[0;31mAttributeError\u001b[0m                            Traceback (most recent call last)",
      "\u001b[0;32m<ipython-input-4-2776191341b4>\u001b[0m in \u001b[0;36m<module>\u001b[0;34m()\u001b[0m\n\u001b[1;32m      3\u001b[0m \u001b[0;34m\u001b[0m\u001b[0m\n\u001b[1;32m      4\u001b[0m \u001b[0mani\u001b[0m \u001b[0;34m=\u001b[0m \u001b[0manimation\u001b[0m\u001b[0;34m.\u001b[0m\u001b[0mFuncAnimation\u001b[0m\u001b[0;34m(\u001b[0m\u001b[0mfig\u001b[0m\u001b[0;34m,\u001b[0m \u001b[0mdrawLines\u001b[0m\u001b[0;34m,\u001b[0m \u001b[0mfargs\u001b[0m\u001b[0;34m=\u001b[0m\u001b[0;34m[\u001b[0m\u001b[0medgeList\u001b[0m\u001b[0;34m,\u001b[0m \u001b[0mx\u001b[0m\u001b[0;34m,\u001b[0m \u001b[0mx_inf\u001b[0m\u001b[0;34m]\u001b[0m\u001b[0;34m,\u001b[0m \u001b[0mframes\u001b[0m\u001b[0;34m=\u001b[0m\u001b[0mnp\u001b[0m\u001b[0;34m.\u001b[0m\u001b[0marange\u001b[0m\u001b[0;34m(\u001b[0m\u001b[0;36m1\u001b[0m\u001b[0;34m,\u001b[0m\u001b[0mK\u001b[0m\u001b[0;34m-\u001b[0m\u001b[0;36m1\u001b[0m\u001b[0;34m,\u001b[0m\u001b[0;36m10\u001b[0m\u001b[0;34m)\u001b[0m\u001b[0;34m,\u001b[0m \u001b[0minterval\u001b[0m\u001b[0;34m=\u001b[0m\u001b[0;36m10\u001b[0m\u001b[0;34m)\u001b[0m\u001b[0;34m\u001b[0m\u001b[0m\n\u001b[0;32m----> 5\u001b[0;31m \u001b[0mplt\u001b[0m\u001b[0;34m.\u001b[0m\u001b[0mshow\u001b[0m\u001b[0;34m(\u001b[0m\u001b[0;34m)\u001b[0m\u001b[0;34m\u001b[0m\u001b[0m\n\u001b[0m",
      "\u001b[0;32m/usr/lib/pymodules/python2.7/matplotlib/pyplot.pyc\u001b[0m in \u001b[0;36mshow\u001b[0;34m(*args, **kw)\u001b[0m\n\u001b[1;32m    143\u001b[0m     \"\"\"\n\u001b[1;32m    144\u001b[0m     \u001b[0;32mglobal\u001b[0m \u001b[0m_show\u001b[0m\u001b[0;34m\u001b[0m\u001b[0m\n\u001b[0;32m--> 145\u001b[0;31m     \u001b[0m_show\u001b[0m\u001b[0;34m(\u001b[0m\u001b[0;34m*\u001b[0m\u001b[0margs\u001b[0m\u001b[0;34m,\u001b[0m \u001b[0;34m**\u001b[0m\u001b[0mkw\u001b[0m\u001b[0;34m)\u001b[0m\u001b[0;34m\u001b[0m\u001b[0m\n\u001b[0m\u001b[1;32m    146\u001b[0m \u001b[0;34m\u001b[0m\u001b[0m\n\u001b[1;32m    147\u001b[0m \u001b[0;34m\u001b[0m\u001b[0m\n",
      "\u001b[0;32m/usr/lib/pymodules/python2.7/matplotlib/backend_bases.pyc\u001b[0m in \u001b[0;36m__call__\u001b[0;34m(self, block)\u001b[0m\n\u001b[1;32m    115\u001b[0m \u001b[0;34m\u001b[0m\u001b[0m\n\u001b[1;32m    116\u001b[0m         \u001b[0;32mif\u001b[0m \u001b[0;32mnot\u001b[0m \u001b[0mis_interactive\u001b[0m\u001b[0;34m(\u001b[0m\u001b[0;34m)\u001b[0m \u001b[0;32mor\u001b[0m \u001b[0mget_backend\u001b[0m\u001b[0;34m(\u001b[0m\u001b[0;34m)\u001b[0m \u001b[0;34m==\u001b[0m \u001b[0;34m'WebAgg'\u001b[0m\u001b[0;34m:\u001b[0m\u001b[0;34m\u001b[0m\u001b[0m\n\u001b[0;32m--> 117\u001b[0;31m             \u001b[0mself\u001b[0m\u001b[0;34m.\u001b[0m\u001b[0mmainloop\u001b[0m\u001b[0;34m(\u001b[0m\u001b[0;34m)\u001b[0m\u001b[0;34m\u001b[0m\u001b[0m\n\u001b[0m\u001b[1;32m    118\u001b[0m \u001b[0;34m\u001b[0m\u001b[0m\n\u001b[1;32m    119\u001b[0m     \u001b[0;32mdef\u001b[0m \u001b[0mmainloop\u001b[0m\u001b[0;34m(\u001b[0m\u001b[0mself\u001b[0m\u001b[0;34m)\u001b[0m\u001b[0;34m:\u001b[0m\u001b[0;34m\u001b[0m\u001b[0m\n",
      "\u001b[0;32m/usr/lib/pymodules/python2.7/matplotlib/backends/backend_tkagg.pyc\u001b[0m in \u001b[0;36mmainloop\u001b[0;34m(self)\u001b[0m\n\u001b[1;32m     67\u001b[0m \u001b[0;32mclass\u001b[0m \u001b[0mShow\u001b[0m\u001b[0;34m(\u001b[0m\u001b[0mShowBase\u001b[0m\u001b[0;34m)\u001b[0m\u001b[0;34m:\u001b[0m\u001b[0;34m\u001b[0m\u001b[0m\n\u001b[1;32m     68\u001b[0m     \u001b[0;32mdef\u001b[0m \u001b[0mmainloop\u001b[0m\u001b[0;34m(\u001b[0m\u001b[0mself\u001b[0m\u001b[0;34m)\u001b[0m\u001b[0;34m:\u001b[0m\u001b[0;34m\u001b[0m\u001b[0m\n\u001b[0;32m---> 69\u001b[0;31m         \u001b[0mTk\u001b[0m\u001b[0;34m.\u001b[0m\u001b[0mmainloop\u001b[0m\u001b[0;34m(\u001b[0m\u001b[0;34m)\u001b[0m\u001b[0;34m\u001b[0m\u001b[0m\n\u001b[0m\u001b[1;32m     70\u001b[0m \u001b[0;34m\u001b[0m\u001b[0m\n\u001b[1;32m     71\u001b[0m \u001b[0mshow\u001b[0m \u001b[0;34m=\u001b[0m \u001b[0mShow\u001b[0m\u001b[0;34m(\u001b[0m\u001b[0;34m)\u001b[0m\u001b[0;34m\u001b[0m\u001b[0m\n",
      "\u001b[0;32m/usr/lib/python2.7/lib-tk/Tkinter.py\u001b[0m in \u001b[0;36mmainloop\u001b[0;34m(n)\u001b[0m\n\u001b[1;32m    364\u001b[0m \u001b[0;32mdef\u001b[0m \u001b[0mmainloop\u001b[0m\u001b[0;34m(\u001b[0m\u001b[0mn\u001b[0m\u001b[0;34m=\u001b[0m\u001b[0;36m0\u001b[0m\u001b[0;34m)\u001b[0m\u001b[0;34m:\u001b[0m\u001b[0;34m\u001b[0m\u001b[0m\n\u001b[1;32m    365\u001b[0m     \u001b[0;34m\"\"\"Run the main loop of Tcl.\"\"\"\u001b[0m\u001b[0;34m\u001b[0m\u001b[0m\n\u001b[0;32m--> 366\u001b[0;31m     \u001b[0m_default_root\u001b[0m\u001b[0;34m.\u001b[0m\u001b[0mtk\u001b[0m\u001b[0;34m.\u001b[0m\u001b[0mmainloop\u001b[0m\u001b[0;34m(\u001b[0m\u001b[0mn\u001b[0m\u001b[0;34m)\u001b[0m\u001b[0;34m\u001b[0m\u001b[0m\n\u001b[0m\u001b[1;32m    367\u001b[0m \u001b[0;34m\u001b[0m\u001b[0m\n\u001b[1;32m    368\u001b[0m \u001b[0mgetint\u001b[0m \u001b[0;34m=\u001b[0m \u001b[0mint\u001b[0m\u001b[0;34m\u001b[0m\u001b[0m\n",
      "\u001b[0;31mAttributeError\u001b[0m: 'NoneType' object has no attribute 'tk'"
     ]
    }
   ],
   "source": [
    "    fig = plt.figure()\n",
    "    ax = fig.add_subplot(111, projection='3d')\n",
    "    \n",
    "    ani = animation.FuncAnimation(fig, drawLines, fargs=[edgeList, x, x_inf], frames=np.arange(1,K-1,10), interval=10)   \n",
    "    plt.show()"
   ]
  },
  {
   "cell_type": "code",
   "execution_count": null,
   "metadata": {
    "collapsed": true
   },
   "outputs": [],
   "source": []
  }
 ],
 "metadata": {
  "kernelspec": {
   "display_name": "Python 2",
   "language": "python",
   "name": "python2"
  },
  "language_info": {
   "codemirror_mode": {
    "name": "ipython",
    "version": 2
   },
   "file_extension": ".py",
   "mimetype": "text/x-python",
   "name": "python",
   "nbconvert_exporter": "python",
   "pygments_lexer": "ipython2",
   "version": "2.7.6"
  }
 },
 "nbformat": 4,
 "nbformat_minor": 1
}
