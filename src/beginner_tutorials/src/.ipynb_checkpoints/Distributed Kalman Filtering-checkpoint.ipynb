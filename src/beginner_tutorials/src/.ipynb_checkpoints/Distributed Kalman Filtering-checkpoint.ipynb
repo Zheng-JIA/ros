{
 "cells": [
  {
   "cell_type": "code",
   "execution_count": 97,
   "metadata": {
    "collapsed": false
   },
   "outputs": [
    {
     "name": "stdout",
     "output_type": "stream",
     "text": [
      "0.115054498001\n",
      "[-0.64989331+0.93670983j -0.64989331-0.93670983j -0.64989331+0.93670983j\n",
      " -0.64989331-0.93670983j -0.64989331+0.93670983j -0.64989331-0.93670983j\n",
      " -0.01386566+0.16594897j -0.01386566-0.16594897j -0.01386566+0.16594897j\n",
      " -0.01386566-0.16594897j -0.01386566+0.16594897j -0.01386566-0.16594897j\n",
      " -0.47997792+0.85415282j -0.47997792-0.85415282j -0.47997792+0.85415282j\n",
      " -0.47997792-0.85415282j -0.47997792+0.85415282j -0.47997792-0.85415282j\n",
      " -0.25026311+0.66173605j -0.25026311-0.66173605j -0.25026311+0.66173605j\n",
      " -0.25026311-0.66173605j -0.25026311+0.66173605j -0.25026311-0.66173605j\n",
      " -0.40800000+0.80593796j -0.40800000-0.80593796j -0.40800000+0.80593796j\n",
      " -0.40800000-0.80593796j -0.40800000+0.80593796j -0.40800000-0.80593796j\n",
      " -0.40800000+0.80593796j -0.40800000-0.80593796j -0.40800000+0.80593796j\n",
      " -0.40800000-0.80593796j -0.40800000+0.80593796j -0.40800000-0.80593796j\n",
      " -0.20400000+0.60529662j -0.20400000-0.60529662j -0.20400000+0.60529662j\n",
      " -0.20400000-0.60529662j -0.20400000+0.60529662j -0.20400000-0.60529662j\n",
      " -0.20400000+0.60529662j -0.20400000-0.60529662j -0.20400000+0.60529662j\n",
      " -0.20400000-0.60529662j -0.20400000+0.60529662j -0.20400000-0.60529662j]\n",
      "[ 0.01386566  0.64989331  0.25026311  0.47997792  0.64989331  0.64989331\n",
      "  0.01386566  0.01386566  0.47997792  0.47997792  0.25026311  0.25026311\n",
      "  0.204       0.204       0.204       0.408       0.408       0.408       0.408\n",
      "  0.408       0.204       0.204       0.408       0.204     ]\n"
     ]
    }
   ],
   "source": [
    "import numpy as np\n",
    "import matplotlib.pyplot as plt \n",
    "from mpl_toolkits.mplot3d import Axes3D\n",
    "import matplotlib.animation as animation\n",
    "import time\n",
    "\n",
    "\n",
    "def setGraph( N, edgeList ):\n",
    "    W = np.zeros((N,N))\n",
    "    for e in edgeList:\n",
    "        i = e[0]\n",
    "        j = e[1]\n",
    "        W[i][j] = 1\n",
    "        W[j][i] = 1       \n",
    "    return W\n",
    "\n",
    "def setIncidence( N, edgeList ):\n",
    "    m = len(edgeList)\n",
    "    B = np.zeros((N,m))\n",
    "    for idx, e in enumerate(edgeList):\n",
    "        i = e[0]\n",
    "        j = e[1]\n",
    "        B[i,idx] = 1\n",
    "        B[j,idx] = -1\n",
    "    return B\n",
    "\n",
    "def drawLines(k, edgeList, x, x_inf, y):\n",
    "    plt.cla()\n",
    "    #size = 20\n",
    "    #ax3.set_xlim3d(0, size)\n",
    "    #ax3.set_ylim3d(0, size)\n",
    "    #ax3.set_zlim3d(0, size)\n",
    "    for i in range(N):\n",
    "        #ax3.scatter(x[3*i,0],x[3*i+1,0],x[3*i+2,0],c='blue') # initial estimated position\n",
    "        ax3.scatter(y[3*i,0],y[3*i+1,0],y[3*i+2,0],c='red') # initial measured position\n",
    "        #ax3.scatter(x[3*i,K-1],x[3*i+1,K-1],x[3*i+2,K-1],c='blue') # final estimated position\n",
    "        #ax3.scatter(y[3*i,K-1],y[3*i+1,K-1],y[3*i+2,K-1],c='red') # final measured position\n",
    "        ax3.scatter(x_inf[3*i],x_inf[3*i+1],x_inf[3*i+2],c='green') # desired position\n",
    "        \n",
    "        #ax3.scatter(x[3*i,k-1],x[3*i+1,k-1],x[3*i+2,k-1],c='blue') # estimated position\n",
    "        ax3.scatter(y[3*i,k-1],y[3*i+1,k-1],y[3*i+2,k-1],c='red') # measured position\n",
    "        \n",
    "        #plt.plot(x[3*i,:],x[3*i+1,:],x[3*i+2,:])   # plot estimated trajectories of each quad\n",
    "        plt.plot(y[3*i,:],y[3*i+1,:],y[3*i+2,:])   # plot real trajectories of each quad\n",
    "    for e in edgeList:\n",
    "        i = e[0]\n",
    "        j = e[1]\n",
    "        ax3.plot([x[3*i,k-1], x[3*j,k-1]], [x[3*i+1,k-1], x[3*j+1,k-1]], [x[3*i+2,k-1], x[3*j+2,k-1]], c='black')\n",
    "    \n",
    "if __name__ == '__main__':\n",
    "    n = 3 # dimention where robots live\n",
    "    N = 8 # number of robots\n",
    "    \n",
    "    K = 2000 # number of simulation iteration\n",
    "    dt = 0.02 # discretization contants\n",
    "    \n",
    "    edgeList = [(0,1),\n",
    "                (1,2),\n",
    "                (2,3),\n",
    "                (3,0),\n",
    "                (4,5),\n",
    "                (5,6),\n",
    "                (6,7),\n",
    "                (7,4),\n",
    "                (0,4),\n",
    "                (1,5),\n",
    "                (2,6),\n",
    "                (3,7)]\n",
    "    W = setGraph(N, edgeList)\n",
    "    Dout = np.diag(np.sum(W, axis=1))\n",
    "    L = Dout - W\n",
    "    G_pos = np.diag(np.array([0, 0, 0, 0, 0, 0, 0, 1])) # list of nodes that have position estimates\n",
    "    G_vel = np.diag(np.array([1, 1, 1, 1, 1, 1, 1, 1])) # list of nodes that have velocity estimates\n",
    "    B = setIncidence(N, edgeList)\n",
    "    In = np.identity(n)\n",
    "    \n",
    "    idx_ap = [0] # list of nodes that have absolute position measurements\n",
    "    E = np.identity(N)[:, idx_ap] # selection matrix for absolute position measurements\n",
    "    H = np.concatenate((B.T, E.T), axis=0) # observation matrix           \n",
    "    \n",
    "    #----------------------------controller---------------------\n",
    "    # gains\n",
    "    krp = 1\n",
    "    krv = 1*krp\n",
    "    kap = 0.2*krp\n",
    "    kav = 0.8*krp    \n",
    "    # closed loop controller dynamics matrices\n",
    "    A11 = np.zeros((n*N,n*N))\n",
    "    A12 = np.identity(n*N)\n",
    "    A1 = np.concatenate((A11, A12), axis=1)\n",
    "    \n",
    "    A21 = -krp*np.kron(L, np.identity(n)) - kap*np.kron(G_pos, np.identity(n))\n",
    "    A22 = -krv*np.kron(L, np.identity(n)) - kav*np.kron(G_vel, np.identity(n))\n",
    "    A2 = np.concatenate((A21,A22), axis=1)\n",
    "    \n",
    "    A_CTRL = dt*np.concatenate((A1,A2), axis=0)\n",
    "    print(np.max(np.absolute(np.linalg.eigvals(A_CTRL))))# print norm of largest eigenvalues of error dynamic matrix\n",
    "    #print(np.linalg.eigvals(A_CTRL))\n",
    "    \n",
    "    #----------------------------estimator----------------------\n",
    "    # gains\n",
    "    kalman_p = 0.17*2\n",
    "    kalman_v = 1*kalman_p\n",
    "    kalman_abs = 1.0\n",
    "    kalman_rel = 0.6*kalman_abs\n",
    "    \n",
    "    # estimator matrix\n",
    "    K_kalp = np.concatenate((kalman_rel*B, kalman_abs*E), axis=1)\n",
    "    K_kalp = np.kron(K_kalp, In)\n",
    "    K_kal = [kalman_p*K_kalp, \n",
    "             kalman_v*K_kalp]\n",
    "    \n",
    "\n",
    "    # estimator error dynamics matrices\n",
    "    # \\dot error(t) = MM * error(t)\n",
    "    A_EST = np.kron(np.kron(np.array([[0, 1],[0, 0]]), np.identity(N)), np.identity(n))\n",
    "    H_EST = np.kron(np.concatenate((H, np.zeros((H.shape[0],N))), axis=1), np.identity(n))\n",
    "    K_EST = np.concatenate((K_kal[0],K_kal[1]), axis=0)\n",
    "    M_EST = A_EST - np.dot(K_EST, H_EST)    \n",
    "    \n",
    "    print(np.linalg.eigvals(M_EST)) # print norm of largest eigenvalues of error dynamic matrix\n",
    "    print(np.linalg.eigvals(np.dot(K_kal[0],np.kron(H,np.identity(n))))/2)\n",
    "    #print(np.linalg.eigvals(MM))\n",
    "    \n",
    "    \n",
    "    #---------------------------Initilization---------------------\n",
    "    p = np.zeros((n*N, K))\n",
    "    p_inf = np.array([0,0,0, 0,1,0, 1,1,0, 1,0,0, 0,0,1, 0,1,1, 1,1,1, 1,0,1]).T+2.0\n",
    "    p[:,0] = 5*(np.random.rand(n*N)-0.5) # p_inf\n",
    "    p_est = np.zeros((n*N, K))\n",
    "    p_est[:,0] = p[:,0]\n",
    "    \n",
    "    v = np.zeros((n*N, K))\n",
    "    v_inf = np.zeros(n*N).T\n",
    "    v[:,0] = np.kron(np.zeros(N), np.zeros(n)).T\n",
    "    v_est = np.zeros((n*N, K))\n",
    "    v_est[:,0] = np.kron(np.zeros(N), np.zeros(n)).T\n",
    "    \n",
    "    x = np.zeros((2*n*N,K)) # state vector [p', v']'\n",
    "    y = np.zeros((n*N,K)) # absolute position measurement, the relative measurment is calculated from it\n",
    "    y[:,0] = p[:,0]\n",
    "    z = np.zeros((n*H.shape[0],K)) # relative position measurement\n",
    "    \n",
    "    # SIMULATION\n",
    "    for k in range(K-1):\n",
    "        p_inf = p_inf + 0.1*np.sin(k*(np.pi)/360)\n",
    "        #if k==800:\n",
    "            #p_inf = p_inf - 0.5*(p_inf-np.kron(np.mean(np.reshape(p_inf,(8,3)), axis=0), np.ones(8)))\n",
    "        # real dynamics\n",
    "        u = np.dot(A21, p_est[:,k]-p_inf) + np.dot(A22, v_est[:,k]-v_inf)\n",
    "        p[:,k+1] = p[:,k] + dt*v[:,k]\n",
    "        v[:,k+1] = v[:,k] + dt*u + 0.01*(np.random.rand(n*N)-0.5)\n",
    "        \n",
    "        # observation\n",
    "        y[:,k+1] = p[:,k+1] + 0.01*(np.random.rand(n*N)-0.5)\n",
    "        z[:,k+1] = np.dot(np.kron(H,In), y[:,k+1])\n",
    "        \n",
    "        # kalman filtering\n",
    "        error = z[:,k+1] - np.dot(np.kron(H,In), p_est[:,k] + dt*v_est[:,k])\n",
    "        p_est[:,k+1] = p_est[:,k] + dt*v_est[:,k] + np.dot(K_kal[0], error)\n",
    "        v_est[:,k+1] = v_est[:,k] + dt*u + np.dot(K_kal[1], error)\n",
    "\n",
    "        \n",
    "    fig1 = plt.figure()\n",
    "    ax1 = fig1.add_subplot(111)\n",
    "    d = 2 # dimension 0:x, 1:y, z:2\n",
    "    ax1.plot(range(K),y[0*n+d,:],range(K),y[1*n+d,:],range(K),y[2*n+d,:])\n",
    "    ax1.plot(range(K),p_est[0*n+d,:],'--',range(K),p_est[1*n+d,:],'--',range(K),p_est[2*n+d,:],'--')\n",
    "    \n",
    "    fig2 = plt.figure()\n",
    "    ax2 = fig2.add_subplot(111)\n",
    "    d = 2 # dimension 0:x, 1:y, z:2\n",
    "    ax2.plot(range(K),v[0*n+d,:],range(K),v[1*n+d,:],range(K),v[2*n+d,:])\n",
    "    ax2.plot(range(K),v_est[0*n+d,:],'--',range(K),v_est[1*n+d,:],'--',range(K),v_est[2*n+d,:],'--')\n",
    "    \n",
    "    fig3 = plt.figure()\n",
    "    ax3 = fig3.add_subplot(111, projection='3d')\n",
    "\n",
    "    #ax2.scatter(p_est[6,K-1],p_est[7,K-1],p_est[8,K-1])\n",
    "    ani = animation.FuncAnimation(fig3, drawLines, fargs=[edgeList, p_est, p_inf, y], \n",
    "                                  frames=np.arange(1,K-1,10), interval=1)   \n",
    "    \n",
    "    plt.show()    "
   ]
  },
  {
   "cell_type": "code",
   "execution_count": 92,
   "metadata": {
    "collapsed": false
   },
   "outputs": [
    {
     "data": {
      "text/plain": [
       "array([[ 3., -1.,  0., -1., -1.,  0.,  0.,  0.],\n",
       "       [-1.,  3., -1.,  0.,  0., -1.,  0.,  0.],\n",
       "       [ 0., -1.,  3., -1.,  0.,  0., -1.,  0.],\n",
       "       [-1.,  0., -1.,  3.,  0.,  0.,  0., -1.],\n",
       "       [-1.,  0.,  0.,  0.,  3., -1.,  0., -1.],\n",
       "       [ 0., -1.,  0.,  0., -1.,  3., -1.,  0.],\n",
       "       [ 0.,  0., -1.,  0.,  0., -1.,  3., -1.],\n",
       "       [ 0.,  0.,  0., -1., -1.,  0., -1.,  3.]])"
      ]
     },
     "execution_count": 92,
     "metadata": {},
     "output_type": "execute_result"
    }
   ],
   "source": [
    "L"
   ]
  },
  {
   "cell_type": "code",
   "execution_count": 248,
   "metadata": {
    "collapsed": false
   },
   "outputs": [
    {
     "data": {
      "text/plain": [
       "array([1, 1, 0, 0, 0, 1, 0, 0])"
      ]
     },
     "execution_count": 248,
     "metadata": {},
     "output_type": "execute_result"
    }
   ],
   "source": [
    "np.diag(G_pos).T"
   ]
  },
  {
   "cell_type": "code",
   "execution_count": 71,
   "metadata": {
    "collapsed": false
   },
   "outputs": [
    {
     "data": {
      "text/plain": [
       "array([ 0.5,  0.5,  0.5])"
      ]
     },
     "execution_count": 71,
     "metadata": {},
     "output_type": "execute_result"
    }
   ],
   "source": [
    "np.mean(np.reshape(p_inf-2,(8,3)), axis=0)"
   ]
  },
  {
   "cell_type": "code",
   "execution_count": 257,
   "metadata": {
    "collapsed": false
   },
   "outputs": [
    {
     "data": {
      "text/plain": [
       "array([ True,  True, False, False, False,  True, False, False], dtype=bool)"
      ]
     },
     "execution_count": 257,
     "metadata": {},
     "output_type": "execute_result"
    }
   ],
   "source": [
    "(np.diag(G_pos)==1)"
   ]
  },
  {
   "cell_type": "code",
   "execution_count": 255,
   "metadata": {
    "collapsed": false
   },
   "outputs": [
    {
     "data": {
      "text/plain": [
       "array([ 0.,  1.,  0.,  0.,  0.,  0.,  0.,  0.])"
      ]
     },
     "execution_count": 255,
     "metadata": {},
     "output_type": "execute_result"
    }
   ],
   "source": [
    "E"
   ]
  },
  {
   "cell_type": "code",
   "execution_count": 28,
   "metadata": {
    "collapsed": false
   },
   "outputs": [
    {
     "data": {
      "text/plain": [
       "array([[ 1.,  0.,  0., ...,  0.,  0.,  0.],\n",
       "       [ 0.,  1.,  0., ...,  0.,  0.,  0.],\n",
       "       [ 0.,  0.,  1., ...,  0.,  0.,  0.],\n",
       "       ..., \n",
       "       [ 1.,  0.,  0., ...,  0.,  0.,  0.],\n",
       "       [ 0.,  1.,  0., ...,  0.,  0.,  0.],\n",
       "       [ 0.,  0.,  1., ...,  0.,  0.,  0.]])"
      ]
     },
     "execution_count": 28,
     "metadata": {},
     "output_type": "execute_result"
    }
   ],
   "source": [
    "H_EST"
   ]
  },
  {
   "cell_type": "code",
   "execution_count": 55,
   "metadata": {
    "collapsed": false
   },
   "outputs": [],
   "source": [
    "O=np.kron(np.array([[0,1],[0,0]]),np.identity(n*N))-0.1*np.dot(np.concatenate(np.kron((H.T,0.5*H.T),np.identity(n)),axis=0),H_EST)"
   ]
  },
  {
   "cell_type": "code",
   "execution_count": 57,
   "metadata": {
    "collapsed": false
   },
   "outputs": [
    {
     "data": {
      "text/plain": [
       "array([-0.30871150+0.4619618j , -0.30871150-0.4619618j ,\n",
       "       -0.30871150+0.4619618j , -0.30871150-0.4619618j ,\n",
       "       -0.30871150+0.4619618j , -0.30871150-0.4619618j ,\n",
       "       -0.00475623+0.06880122j, -0.00475623-0.06880122j,\n",
       "       -0.00475623+0.06880122j, -0.00475623-0.06880122j,\n",
       "       -0.00475623+0.06880122j, -0.00475623-0.06880122j,\n",
       "       -0.22093304+0.41487544j, -0.22093304-0.41487544j,\n",
       "       -0.22093304+0.41487544j, -0.22093304-0.41487544j,\n",
       "       -0.22093304+0.41487544j, -0.22093304-0.41487544j,\n",
       "       -0.11559924+0.31974373j, -0.11559924-0.31974373j,\n",
       "       -0.11559924+0.31974373j, -0.11559924-0.31974373j,\n",
       "       -0.11559924+0.31974373j, -0.11559924-0.31974373j,\n",
       "       -0.20000000+0.4j       , -0.20000000-0.4j       ,\n",
       "       -0.20000000+0.4j       , -0.20000000-0.4j       ,\n",
       "       -0.20000000+0.4j       , -0.20000000-0.4j       ,\n",
       "       -0.20000000+0.4j       , -0.20000000-0.4j       ,\n",
       "       -0.20000000+0.4j       , -0.20000000-0.4j       ,\n",
       "       -0.20000000+0.4j       , -0.20000000-0.4j       ,\n",
       "       -0.10000000+0.3j       , -0.10000000-0.3j       ,\n",
       "       -0.10000000+0.3j       , -0.10000000-0.3j       ,\n",
       "       -0.10000000+0.3j       , -0.10000000-0.3j       ,\n",
       "       -0.10000000+0.3j       , -0.10000000-0.3j       ,\n",
       "       -0.10000000+0.3j       , -0.10000000-0.3j       ,\n",
       "       -0.10000000+0.3j       , -0.10000000-0.3j       ])"
      ]
     },
     "execution_count": 57,
     "metadata": {},
     "output_type": "execute_result"
    }
   ],
   "source": [
    "np.linalg.eigvals(O)"
   ]
  },
  {
   "cell_type": "code",
   "execution_count": 59,
   "metadata": {
    "collapsed": false
   },
   "outputs": [
    {
     "data": {
      "text/plain": [
       "array([ 0.3087115 ,  0.22093304,  0.00475623,  0.11559924,  0.2       ,\n",
       "        0.1       ,  0.2       ,  0.1       ])"
      ]
     },
     "execution_count": 59,
     "metadata": {},
     "output_type": "execute_result"
    }
   ],
   "source": [
    "np.linalg.eigvals(0.1*np.dot(H.T,H))/2"
   ]
  },
  {
   "cell_type": "code",
   "execution_count": 45,
   "metadata": {
    "collapsed": false
   },
   "outputs": [
    {
     "data": {
      "text/plain": [
       "(39, 48)"
      ]
     },
     "execution_count": 45,
     "metadata": {},
     "output_type": "execute_result"
    }
   ],
   "source": [
    "H_EST.shape"
   ]
  },
  {
   "cell_type": "code",
   "execution_count": 83,
   "metadata": {
    "collapsed": false
   },
   "outputs": [
    {
     "data": {
      "text/plain": [
       "1.2246467991473532e-16"
      ]
     },
     "execution_count": 83,
     "metadata": {},
     "output_type": "execute_result"
    }
   ],
   "source": [
    "np.sin(np.pi)"
   ]
  },
  {
   "cell_type": "code",
   "execution_count": null,
   "metadata": {
    "collapsed": true
   },
   "outputs": [],
   "source": []
  }
 ],
 "metadata": {
  "kernelspec": {
   "display_name": "Python 2",
   "language": "python",
   "name": "python2"
  },
  "language_info": {
   "codemirror_mode": {
    "name": "ipython",
    "version": 2
   },
   "file_extension": ".py",
   "mimetype": "text/x-python",
   "name": "python",
   "nbconvert_exporter": "python",
   "pygments_lexer": "ipython2",
   "version": "2.7.6"
  }
 },
 "nbformat": 4,
 "nbformat_minor": 1
}
