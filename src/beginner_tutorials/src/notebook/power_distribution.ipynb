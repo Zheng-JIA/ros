{
 "cells": [
  {
   "cell_type": "code",
   "execution_count": 7,
   "metadata": {
    "collapsed": true
   },
   "outputs": [],
   "source": [
    "import numpy as np\n",
    "from sympy import *"
   ]
  },
  {
   "cell_type": "code",
   "execution_count": 8,
   "metadata": {
    "collapsed": true
   },
   "outputs": [],
   "source": [
    "Q_INERTIA_XX = 0.0000166  # [kg * m^2]\n",
    "Q_INERTIA_YY = 0.0000166  # [kg * m^2]\n",
    "Q_INERTIA_ZZ = 0.00002930 # [kg * m^2]\n",
    "Q_LENGTH = 0.046          # [m]\n",
    "Q_MASS = 0.027            # [kg]\n",
    "Q_GRAVITY = 9.81          # [m/s^2]\n",
    "Q_COEFF_K = 0.0000000128   # [N * m * s^2]\n",
    "Q_COEFF_B = 0.0000000000765   # [N * s^2]\n",
    "Q_COEFF_BETA_1 = 0.0877   # [.]\n",
    "Q_COEFF_BETA_2 = 0.0660   # [.]"
   ]
  },
  {
   "cell_type": "code",
   "execution_count": 9,
   "metadata": {
    "collapsed": false
   },
   "outputs": [],
   "source": [
    "#Parameters\n",
    "d4K = 1.0 / (4.0 * Q_COEFF_K);\n",
    "d2KL = 1.0 / (2.0 * Q_COEFF_K * Q_LENGTH);\n",
    "d4B = 1.0 / (4.0 * Q_COEFF_B);\n",
    "B1d2B2 = Q_COEFF_BETA_1 / (2.0 * Q_COEFF_BETA_2);\n",
    "B1d2B2sq = B1d2B2 * B1d2B2;\n",
    "KdB2 = Q_COEFF_K / Q_COEFF_BETA_2;"
   ]
  },
  {
   "cell_type": "code",
   "execution_count": 10,
   "metadata": {
    "collapsed": false
   },
   "outputs": [],
   "source": [
    "# Saturation bounds\n",
    "LIM_MAX_OMEGA = 3000.0 # rad/s\n",
    "LIM_MIN_OMEGA = 800.0\n",
    "SATURATION_EPSILON = 0.1\n",
    "omegasq_max_lim = LIM_MAX_OMEGA * LIM_MAX_OMEGA\n",
    "omegasq_min_lim = LIM_MIN_OMEGA * LIM_MIN_OMEGA\n",
    "thrust_max_lim = Q_COEFF_K *(1.0 - SATURATION_EPSILON) * 4.0 * omegasq_max_lim\n",
    "thrust_min_lim = Q_COEFF_K * 4.0 * omegasq_max_lim * SATURATION_EPSILON"
   ]
  },
  {
   "cell_type": "code",
   "execution_count": 15,
   "metadata": {
    "collapsed": false
   },
   "outputs": [
    {
     "data": {
      "text/plain": [
       "2236.0679774997898"
      ]
     },
     "execution_count": 15,
     "metadata": {},
     "output_type": "execute_result"
    }
   ],
   "source": [
    "np.sqrt(5000000)"
   ]
  },
  {
   "cell_type": "code",
   "execution_count": 14,
   "metadata": {
    "collapsed": false
   },
   "outputs": [
    {
     "name": "stdout",
     "output_type": "stream",
     "text": [
      "Tpart is 5273437.5\n",
      "omegasq (before) is 5273437.5\n",
      "omegasq (after) is 5273437.5\n",
      "PWM is  0.545625308152\n",
      "Power is  47085.9123798\n"
     ]
    }
   ],
   "source": [
    "thrust = 0.27\n",
    "torquex = 0\n",
    "torquey = -0\n",
    "torquez = -0\n",
    "\n",
    "Tpart = d4K*thrust\n",
    "tauXpart = d2KL*torquex\n",
    "tauYpart = d2KL*torquey\n",
    "tauZpart = d4B*torquez\n",
    "omegasq = np.abs(Tpart - 0.5*tauXpart - 0.5*tauYpart + tauZpart)\n",
    "\n",
    "print(\"Tpart is\", Tpart)\n",
    "print(\"omegasq (before) is\", omegasq)\n",
    "if omegasq > omegasq_max_lim:\n",
    "    omegasq = omegasq_max_lim\n",
    "if omegasq < omegasq_min_lim:\n",
    "    omegasq = omegasq_min_lim\n",
    "\n",
    "PWM = -B1d2B2 + np.sqrt(B1d2B2sq + omegasq * KdB2)\n",
    "Power = (np.sqrt(omegasq)-380)/0.0407\n",
    "\n",
    "\n",
    "print(\"omegasq (after) is\", omegasq)\n",
    "print(\"PWM is \", PWM)\n",
    "print(\"Power is \", Power)"
   ]
  },
  {
   "cell_type": "code",
   "execution_count": 19,
   "metadata": {
    "collapsed": false
   },
   "outputs": [],
   "source": [
    "# parameter identification\n",
    "fi = Symbol('fi')\n",
    "cmdi = Symbol('cmdi')\n",
    "omegai = Symbol('omegai')\n",
    "taui = Symbol('taui')\n",
    "\n",
    "cmdi = (omegai - 380.8359)/0.04076521\n",
    "fi = 2.130295e-11*cmdi**2 + 1.032633e-6*cmdi + 5.484560e-4\n",
    "#omegai = 0.04076521*cmdi + 380.8359\n",
    "\n",
    "taui = 0.005964552*fi + 1.563383e-5"
   ]
  },
  {
   "cell_type": "code",
   "execution_count": 20,
   "metadata": {
    "collapsed": false
   },
   "outputs": [
    {
     "data": {
      "text/plain": [
       "7.64606893882011e-11*omegai**2 + 9.28515007373647e-8*omegai - 2.7545611743493e-5"
      ]
     },
     "execution_count": 20,
     "metadata": {},
     "output_type": "execute_result"
    }
   ],
   "source": [
    "simplify(taui)"
   ]
  },
  {
   "cell_type": "code",
   "execution_count": 22,
   "metadata": {
    "collapsed": false
   },
   "outputs": [
    {
     "data": {
      "text/plain": [
       "1.28191839702632e-8*omegai**2 + 1.55672212661344e-5*omegai - 0.00723934366629598"
      ]
     },
     "execution_count": 22,
     "metadata": {},
     "output_type": "execute_result"
    }
   ],
   "source": [
    "simplify(fi)"
   ]
  },
  {
   "cell_type": "code",
   "execution_count": 25,
   "metadata": {
    "collapsed": false
   },
   "outputs": [
    {
     "data": {
      "text/plain": [
       "7.64e-11"
      ]
     },
     "execution_count": 25,
     "metadata": {},
     "output_type": "execute_result"
    }
   ],
   "source": [
    "0.0000000000764"
   ]
  },
  {
   "cell_type": "code",
   "execution_count": 26,
   "metadata": {
    "collapsed": false
   },
   "outputs": [
    {
     "data": {
      "text/plain": [
       "1.4142135623730951"
      ]
     },
     "execution_count": 26,
     "metadata": {},
     "output_type": "execute_result"
    }
   ],
   "source": [
    "np.sqrt(2)"
   ]
  },
  {
   "cell_type": "code",
   "execution_count": null,
   "metadata": {
    "collapsed": true
   },
   "outputs": [],
   "source": []
  }
 ],
 "metadata": {
  "anaconda-cloud": {},
  "kernelspec": {
   "display_name": "Python [conda root]",
   "language": "python",
   "name": "conda-root-py"
  },
  "language_info": {
   "codemirror_mode": {
    "name": "ipython",
    "version": 3
   },
   "file_extension": ".py",
   "mimetype": "text/x-python",
   "name": "python",
   "nbconvert_exporter": "python",
   "pygments_lexer": "ipython3",
   "version": "3.5.2"
  }
 },
 "nbformat": 4,
 "nbformat_minor": 1
}
